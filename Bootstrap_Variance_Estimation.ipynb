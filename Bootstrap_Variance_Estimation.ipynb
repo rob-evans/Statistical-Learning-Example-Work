{
 "cells": [
  {
   "attachments": {},
   "cell_type": "markdown",
   "metadata": {},
   "source": [
    "# Bootstrap Variance Estimation"
   ]
  },
  {
   "attachments": {},
   "cell_type": "markdown",
   "metadata": {},
   "source": [
    "It is the year 2078, and humanity is in danger again, by a potential pandemic of a deadly virus that has arisen as a mutation of the plant pathogenic virus CeMV. Due to the fact that CeMV has been identified in coriander crops, it has been given name the Coriander virus. \n",
    "\n",
    "Scientists have discovered a potential vaccine for the Coriander virus. The data from the clinical trials have been collected; it records the amount of antibodies produced by every individual who participated in the trial.\n",
    "The scientists found evidence that if the body produces at least the level of antibodies given by the median antibody level of the full original dataset, then that person is certain to be immune.\n",
    "Unfortunetly, due to an accident most of the samples have been lost, only one rather small data set remains. \n",
    "\n",
    "You were asked to approximate the standard error of the median of the remaining data, since we have only have a few data points we may use bootstrap to create more `bootstrap-world' samples and approximate the standard error of the median. \n",
    "\n",
    "### Your tasks are:\n",
    "\n",
    "- Please import the csv file \"antibodies_data.csv\" to a DataFrame and generate the corresponding histogram.\n",
    "- Find the median of data set; recall that the median of a finite list of numbers is the middle number (or an average of two middle numbers if the length is even) given that this list of numbers has been ordered (from the smallest to greatest). You may use numpy/pandas for that. \n",
    "- The median is our statistic, $T_n = g(X_1, \\ldots, X_n)$. we wish to estimate $\\mathbb{V}[T_n]$ by using bootstrap algorithm. Your task in this exercise is to implement __Bootstrap variance estimation algorithm__ to approximate $\\mathbb{V}[T_n]$.\n",
    "\n",
    "#### Bootstrap variance estimation algorithm:\n",
    "1. Draw  $X_1^*, X_2^*, \\ldots, X_n^* \\sim \\widehat{F}_n$, where  $\\widehat{F}_n(x) = \\frac{1}{n} \\sum_{i=1}^n I_{\\{ X_i \\leq x\\}}$.\n",
    "2. Compute $T_n^* = g(X_1^*, X_2^*, \\ldots, X_n^*)$. \n",
    "3. Repeat i) and ii) $N$-times.\n",
    "4.  Let the variance be\n",
    "\t$$ \\large \\nu_{{\\tiny\\mathrm{boot}}} = \\frac{1}{N} \\sum_{i=1}^N \\left( T_{n,i}^* - \\frac{1}{N} \\sum_{j=1}^N T_{n,j}^* \\right)^2, $$\n",
    "\twhere $T_{n, j}^*$ is $T_n^*$ that has been computed from i) in step $j$ (out of $N$ steps).\n",
    "\n",
    "Print your result with $N=50$. "
   ]
  },
  {
   "cell_type": "code",
   "execution_count": 1,
   "metadata": {},
   "outputs": [],
   "source": [
    "import numpy as np\n",
    "import pandas as pd\n",
    "import matplotlib.pyplot as plt"
   ]
  },
  {
   "cell_type": "code",
   "execution_count": 4,
   "metadata": {},
   "outputs": [
    {
     "data": {
      "text/html": [
       "<div>\n",
       "<style scoped>\n",
       "    .dataframe tbody tr th:only-of-type {\n",
       "        vertical-align: middle;\n",
       "    }\n",
       "\n",
       "    .dataframe tbody tr th {\n",
       "        vertical-align: top;\n",
       "    }\n",
       "\n",
       "    .dataframe thead th {\n",
       "        text-align: right;\n",
       "    }\n",
       "</style>\n",
       "<table border=\"1\" class=\"dataframe\">\n",
       "  <thead>\n",
       "    <tr style=\"text-align: right;\">\n",
       "      <th></th>\n",
       "      <th>antibodies level</th>\n",
       "    </tr>\n",
       "  </thead>\n",
       "  <tbody>\n",
       "    <tr>\n",
       "      <th>0</th>\n",
       "      <td>1.415733</td>\n",
       "    </tr>\n",
       "    <tr>\n",
       "      <th>1</th>\n",
       "      <td>5.846716</td>\n",
       "    </tr>\n",
       "    <tr>\n",
       "      <th>2</th>\n",
       "      <td>2.180461</td>\n",
       "    </tr>\n",
       "    <tr>\n",
       "      <th>3</th>\n",
       "      <td>4.824895</td>\n",
       "    </tr>\n",
       "    <tr>\n",
       "      <th>4</th>\n",
       "      <td>5.413196</td>\n",
       "    </tr>\n",
       "  </tbody>\n",
       "</table>\n",
       "</div>"
      ],
      "text/plain": [
       "   antibodies level\n",
       "0          1.415733\n",
       "1          5.846716\n",
       "2          2.180461\n",
       "3          4.824895\n",
       "4          5.413196"
      ]
     },
     "execution_count": 4,
     "metadata": {},
     "output_type": "execute_result"
    }
   ],
   "source": [
    "df_anti = pd.read_csv('Data/antibodies_data.csv') #imports the antibodies dataset\n",
    "df_anti.head() #displays the header of the dataset"
   ]
  },
  {
   "cell_type": "code",
   "execution_count": 8,
   "metadata": {},
   "outputs": [
    {
     "data": {
      "image/png": "[encoded data removed]",
      "text/plain": [
       "<Figure size 640x480 with 1 Axes>"
      ]
     },
     "metadata": {},
     "output_type": "display_data"
    }
   ],
   "source": [
    "anti_num = df_anti['antibodies level'] #creates a list of all elements under the 'antibodies level' category\n",
    "#plot formatting\n",
    "plt.hist(anti_num, bins = 20)\n",
    "plt.xticks(np.arange(0,14,1))\n",
    "plt.yticks(np.arange(0,16,1))\n",
    "plt.show()"
   ]
  },
  {
   "cell_type": "code",
   "execution_count": 9,
   "metadata": {},
   "outputs": [
    {
     "name": "stdout",
     "output_type": "stream",
     "text": [
      "3.08998112981717\n"
     ]
    }
   ],
   "source": [
    "print(np.median(anti_num))"
   ]
  },
  {
   "cell_type": "code",
   "execution_count": 10,
   "metadata": {},
   "outputs": [
    {
     "name": "stdout",
     "output_type": "stream",
     "text": [
      "50\n",
      "0.07792393145602493\n",
      "0.07792393145602493\n"
     ]
    }
   ],
   "source": [
    "#define a function that generates a list of medians of N bootstrapped datasets\n",
    "def boot_med_gen(data,N): \n",
    "    boot_median = [] #creates empty list to append medians of bootstrapped samples\n",
    "    for _ in range(N): #opens loop so we can repeat the following process N times\n",
    "        boot_sample = np.random.choice(data, size=len(data), replace = True) #creates a new sample based on observed data\n",
    "        boot_median.append(np.median(boot_sample)) #finds the median of the sample and appends it to the list\n",
    "    return boot_median #returns the list of N medians from N samples\n",
    "\n",
    "#define our bootstrap variance estimation algorithm\n",
    "def boot_stat_var(boot_stat_list):\n",
    "    N = len(boot_stat_list)\n",
    "    sum_sq_dif = 0 #defines a variable for outer sum\n",
    "    for i in range(N):\n",
    "        stat_sum = 0 #defines a variable for inner sum\n",
    "        for j in range(N):\n",
    "            stat_sum += boot_stat_list[j] #sums list of bootsrapped stats\n",
    "        sum_sq_dif += (boot_stat_list[i] - stat_sum/N)**2 #takes sum of the squared difference between each stat and the stat average\n",
    "    return sum_sq_dif/N # peforms the final division by N\n",
    "    \n",
    "#  We run the above code with N=50 and compare to the built in variance function to check accuracy of algorithm      \n",
    "solution = boot_med_gen(anti_num,50)\n",
    "print(len(solution))\n",
    "print(boot_stat_var(solution))\n",
    "print(np.var(solution))"
   ]
  }
 ],
 "metadata": {
  "kernelspec": {
   "display_name": "Python 3",
   "language": "python",
   "name": "python3"
  },
  "language_info": {
   "codemirror_mode": {
    "name": "ipython",
    "version": 3
   },
   "file_extension": ".py",
   "mimetype": "text/x-python",
   "name": "python",
   "nbconvert_exporter": "python",
   "pygments_lexer": "ipython3",
   "version": "3.8.16"
  },
  "orig_nbformat": 4
 },
 "nbformat": 4,
 "nbformat_minor": 2
}
