{
 "cells": [
  {
   "attachments": {},
   "cell_type": "markdown",
   "metadata": {},
   "source": [
    "### The following problem is called the `100 prisoners problem':\n",
    "\n",
    "`The director of a prison offers 100 death row prisoners, who are numbered from 0 to 99, a last chance. A room contains a cupboard with 100 drawers. The director randomly puts one prisoner's number in each closed drawer (numbered 0 to 99, numbers do not repeat). The prisoners enter the room, one after another. Each prisoner may open and look into 50 drawers in any order. The drawers are closed again afterwards. If, during this search, every prisoner finds her/his number in one of the drawers, all prisoners are pardoned. If just one prisoner does not find his number, all prisoners die. Before the first prisoner enters the room, the prisoners may discuss strategy — but may not communicate once the first prisoner enters to look in the drawers. What is the prisoners' best strategy?'\n",
    "\n",
    "\n",
    "#### Strategy 1 ``Random madness = No strategy'':\n",
    "1. Each prisoner randomly opens 50 drawers.\n",
    "\n",
    "\n",
    "#### Strategy 2 ``Be clever and survive forever'':\n",
    "1. Each prisoner first opens the drawer with his own number.\n",
    "2. If this drawer contains his number he is done and was successful.\n",
    "3. Otherwise, the drawer contains the number of another prisoner and he next opens the drawer with this number.\n",
    "4. The prisoner repeats steps 2 and 3 until he finds his own number or has opened 50 drawers."
   ]
  },
  {
   "attachments": {},
   "cell_type": "markdown",
   "metadata": {},
   "source": [
    "### Your tasks\n",
    "\n",
    "- Please write a function __random_madness__ that performs Strategy 1 for a single prisoner. Your function should return either 1 if the prisoner has found his/her own number or 0 if she/he was unsuccesfull. \n",
    "- Please write a function __be_clever__ that performs Strategy 2 and returns either 1 if the prisoner has found his/her own number or 0 if she/he was unsuccesfull.  \n",
    "- (Monte Carlo Simulation) Use both functions (random_madness, be_clever) in a loop to find (approximate) survival probability of all 100 prisoners in both cases. Please print the survival probabilities.   "
   ]
  },
  {
   "cell_type": "code",
   "execution_count": 51,
   "metadata": {},
   "outputs": [],
   "source": [
    "import numpy as np\n",
    "import random "
   ]
  },
  {
   "cell_type": "code",
   "execution_count": 38,
   "metadata": {},
   "outputs": [],
   "source": [
    "def random_madness(n):\n",
    "    if n<=0 or n>100 or type(n)!=int:\n",
    "        print(\"Please choose an integer value for n between 1 and 100\")\n",
    "        return None\n",
    "    \n",
    "    pri_num = [k for k in range(n)] \n",
    "    box_number = [j for j in range(100)] \n",
    "    single_success = 0 \n",
    "    group_success = 0\n",
    "    np.random.shuffle(box_number) #simulates the numbers being put into boxes at random\n",
    "\n",
    "    for prisoner in range(n): \n",
    "        choice = random.choice(box_number)#prisoner chooses the box that matches his prisoner number\n",
    "        box_count = 1 \n",
    "        while not (pri_num[prisoner] == choice or box_count== 50): # while prisoner number != box number, and less than 50 boxes have been opened, we choose another box\n",
    "            choice = random.choice(box_number) #prisoner chooses the number inside his previous box\n",
    "            box_count+=1 #we increment the box count with every choice\n",
    "        if pri_num[prisoner] == choice: \n",
    "            single_success +=1\n",
    "        if box_count == 50 and pri_num[prisoner]!=choice: \n",
    "            break\n",
    "\n",
    "    if single_success== n:\n",
    "            group_success +=1 \n",
    "    return group_success"
   ]
  },
  {
   "cell_type": "code",
   "execution_count": 4,
   "metadata": {},
   "outputs": [],
   "source": [
    "def be_clever(n):\n",
    "    if n<=0 or n>100 or type(n)!=int:\n",
    "        print(\"Please choose an integer value for n between 1 and 100\")\n",
    "        return None\n",
    "    \n",
    "    pri_num = [k for k in range(n)] \n",
    "    box_number = [j for j in range(100)] \n",
    "    group_success = 0\n",
    "    single_success = 0 \n",
    "    np.random.shuffle(box_number) #prisoner box choice is not completely random, so we have to shuffle the boxe to\n",
    "    \n",
    "    for prisoner in range(n): \n",
    "        choice = box_number[prisoner] #prisoner chooses the box that matches his prisoner number\n",
    "        box_count = 1 \n",
    "        while not (pri_num[prisoner] == choice or box_count== 50): # while prisoner number != box number, and less than 50 boxes have been opened, we choose another box\n",
    "            choice = box_number[choice] #prisoner chooses the number inside his previous box\n",
    "            box_count+=1 #we increment the box count with every choice\n",
    "        if pri_num[prisoner]==choice: \n",
    "            single_success +=1\n",
    "        if box_count == 50 and pri_num[prisoner]!=choice: \n",
    "            break\n",
    "    if single_success== n:\n",
    "            group_success +=1 \n",
    "    return group_success"
   ]
  },
  {
   "cell_type": "code",
   "execution_count": 48,
   "metadata": {},
   "outputs": [],
   "source": [
    "def monte_carlo(strat,n,trials):\n",
    "    strat_success = 0\n",
    "    for trial in range(trials):\n",
    "        strat_success+=strat(n)\n",
    "    return f'The {strat.__name__} strategy has a {strat_success*100/trials:.2f}% success rate for groups of 100 prisoners over {trials:,} trials.'"
   ]
  },
  {
   "cell_type": "code",
   "execution_count": 49,
   "metadata": {},
   "outputs": [
    {
     "name": "stdout",
     "output_type": "stream",
     "text": [
      "The random_madness strategy has a 0.00% success rate for groups of 100 prisoners over 10,000 trials.\n"
     ]
    }
   ],
   "source": [
    "print(monte_carlo(random_madness,100,10000))"
   ]
  },
  {
   "cell_type": "code",
   "execution_count": 50,
   "metadata": {},
   "outputs": [
    {
     "name": "stdout",
     "output_type": "stream",
     "text": [
      "The be_clever strategy has a 30.92% success rate for groups of 100 prisoners over 10,000 trials.\n"
     ]
    }
   ],
   "source": [
    "print(monte_carlo(be_clever,100,10000))"
   ]
  }
 ],
 "metadata": {
  "kernelspec": {
   "display_name": "Python 3",
   "language": "python",
   "name": "python3"
  },
  "language_info": {
   "codemirror_mode": {
    "name": "ipython",
    "version": 3
   },
   "file_extension": ".py",
   "mimetype": "text/x-python",
   "name": "python",
   "nbconvert_exporter": "python",
   "pygments_lexer": "ipython3",
   "version": "3.8.16"
  },
  "orig_nbformat": 4
 },
 "nbformat": 4,
 "nbformat_minor": 2
}
